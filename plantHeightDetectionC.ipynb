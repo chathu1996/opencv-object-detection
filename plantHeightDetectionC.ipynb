{
 "cells": [
  {
   "cell_type": "code",
   "execution_count": 5,
   "metadata": {},
   "outputs": [
    {
     "name": "stdout",
     "output_type": "stream",
     "text": [
      "no,contours: 30\n",
      "1\n",
      "7\n",
      "1\n",
      "1\n",
      "1\n",
      "2\n",
      "1\n",
      "8\n",
      "1\n",
      "1\n",
      "5\n",
      "4\n",
      "2\n",
      "2\n",
      "2\n",
      "2\n",
      "1\n",
      "4\n",
      "751\n",
      "4\n",
      "20\n",
      "14\n",
      "4\n",
      "4\n",
      "25\n",
      "10\n",
      "45\n",
      "9\n",
      "32\n",
      "14\n"
     ]
    }
   ],
   "source": [
    "import cv2\n",
    "import numpy as np\n",
    "\n",
    "frame=cv2.imread('plants/D14.png')\n",
    "\n",
    "frame=cv2.resize(frame, (650,350))\n",
    "\n",
    "hsv = cv2.cvtColor(frame, cv2.COLOR_BGR2HSV)\n",
    "\n",
    "lower_color=np.array([28,78,133])\n",
    "upper_color=np.array([70,255,255])\n",
    "\n",
    "mask=cv2.inRange(hsv, lower_color, upper_color)\n",
    "\n",
    "res=cv2.bitwise_and(frame,frame, mask=mask)\n",
    "\n",
    "contours,hierarchy=cv2.findContours(mask, cv2.RETR_TREE, cv2.CHAIN_APPROX_SIMPLE)\n",
    "\n",
    "print('no,contours:',len(contours))\n",
    "\n",
    "for cnt in contours:\n",
    "    area=cv2.contourArea(cnt)\n",
    "    print(len(cnt))\n",
    "    if(len(cnt)>1000):\n",
    "        \n",
    "        x,y,w,h=cv2.boundingRect(cnt)\n",
    "        img=cv2.rectangle(frame,(x,y),(x+w,y+h),(0,255,0),2)\n",
    "        \n",
    "        length=h\n",
    "        print(h)\n",
    "        \n",
    "        cv2.circle(frame, (int(x+w/2), int(y)),5,(0,0,255), -1)\n",
    "        cv2.circle(frame, (int(x+w/2), int(y+h/2)),5,(0,0,255), -1)\n",
    "\n",
    "cv2.imshow('frame', frame)\n",
    "cv2.imshow('mask', mask)\n",
    "cv2.imshow('res', res)\n",
    "cv2.imshow('hsv', hsv)\n",
    "\n",
    "k=cv2.waitKey(0)\n",
    "cv2.destroyAllWindows()"
   ]
  },
  {
   "cell_type": "code",
   "execution_count": null,
   "metadata": {},
   "outputs": [],
   "source": []
  },
  {
   "cell_type": "code",
   "execution_count": null,
   "metadata": {},
   "outputs": [],
   "source": []
  }
 ],
 "metadata": {
  "kernelspec": {
   "display_name": "Python 3",
   "language": "python",
   "name": "python3"
  },
  "language_info": {
   "codemirror_mode": {
    "name": "ipython",
    "version": 3
   },
   "file_extension": ".py",
   "mimetype": "text/x-python",
   "name": "python",
   "nbconvert_exporter": "python",
   "pygments_lexer": "ipython3",
   "version": "3.7.6"
  }
 },
 "nbformat": 4,
 "nbformat_minor": 4
}
